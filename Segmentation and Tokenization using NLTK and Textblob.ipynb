{
 "cells": [
  {
   "cell_type": "markdown",
   "id": "f8214a7a",
   "metadata": {},
   "source": [
    "**Corpus:** This is the collection of the text data (in any language) which can be further used in semantic analysis, classification, etc.\n",
    "\n",
    "\n",
    "**Token:** This refers to the strings divided from the input text.\n",
    "\n",
    "\n",
    "\n",
    "\n",
    "**Sentence Segmentation**\n",
    "This is the first steps of pipeline that is to break a text into separate sentence. Nlp detect end of a sentence by symbol fullstop . and question mark ?\n",
    "\n",
    "**Lets see a paragraph:**\n",
    "\n",
    "\n",
    "My name is Alex. I study at Asia Pacific University. Currently I am in my final year and my final year project is about building a recomendation system engine. After completing my bachelor degree in computer science, my planing is to pursue MBA.\n",
    "Is it a good decision?\n",
    "\n",
    "The above paragraph contains many useful information about Alex, it would be great if computer can read and understand what Alex represent name, country etc. and what does Asia Pacific University means organizzation, institutions etc. To get there, first we need to teach the program basic concepts and to move there we must need to start from sentence segmentation\n",
    "\n",
    "\n"
   ]
  },
  {
   "cell_type": "code",
   "execution_count": 5,
   "id": "f8e87ec5",
   "metadata": {},
   "outputs": [
    {
     "name": "stdout",
     "output_type": "stream",
     "text": [
      "showing info https://raw.githubusercontent.com/nltk/nltk_data/gh-pages/index.xml\n",
      "There are  5 sentences in this text\n",
      "\n",
      "1 . My name is Alex. \n",
      "\n",
      "2 . I study at Asia Pacific University. \n",
      "\n",
      "3 . Currently I am in my final year and my final year project is about building a recomendation system engine. \n",
      "\n",
      "4 . After completing my bachelor degree in computer science, my planing is to pursue MBA. \n",
      "\n",
      "5 . Is it a good decision? \n",
      "\n"
     ]
    }
   ],
   "source": [
    "import nltk\n",
    "nltk.download()\n",
    "\n",
    "from nltk.tokenize import sent_tokenize\n",
    "\n",
    "sampleText = '''My name is Alex. I study at Asia Pacific University.\n",
    "                Currently I am in my final year and my final year project is about building a recomendation system engine. \n",
    "                After completing my bachelor degree in computer science, my planing is to pursue MBA. Is it a good decision?'''\n",
    "\n",
    "\n",
    "Sentences = sent_tokenize(sampleText)\n",
    "\n",
    "print(\"There are \", len(Sentences), \"sentences in this text\\n\")\n",
    "\n",
    "counter = 0\n",
    "for sent in Sentences:\n",
    "    counter+=1\n",
    "    print(counter,\".\",sent,\"\\n\")"
   ]
  },
  {
   "cell_type": "code",
   "execution_count": 6,
   "id": "9cbd5352",
   "metadata": {},
   "outputs": [
    {
     "name": "stdout",
     "output_type": "stream",
     "text": [
      "['My name is Alex.', 'I study at Asia Pacific University.', 'Currently I am in my final year and my final year project is about building a recomendation system engine.', 'After completing my bachelor degree in computer science, my planing is to pursue MBA.', 'Is it a good decision?']\n"
     ]
    }
   ],
   "source": [
    "#we can also store this in list\n",
    "\n",
    "sentence = []\n",
    "\n",
    "for sent in Sentences:\n",
    "    sentence.append(sent)\n",
    "    \n",
    "print(sentence)"
   ]
  },
  {
   "cell_type": "markdown",
   "id": "38537138",
   "metadata": {},
   "source": [
    "**Word Tokenization**\n",
    "\n",
    "Like sentence segmentation word tokenization is separating words form sentence and paragraph in short from a given text.\n",
    "\n",
    "**word_tokenize** function is use to obtain this result\n"
   ]
  },
  {
   "cell_type": "code",
   "execution_count": 23,
   "id": "d7c339eb",
   "metadata": {},
   "outputs": [
    {
     "name": "stdout",
     "output_type": "stream",
     "text": [
      "\n",
      "\n",
      "sampletext: \n",
      "['My', 'name', 'is', 'Alex', '.', 'I', 'study', 'at', 'Asia', 'Pacific', 'University', '.', 'Currently', 'I', 'am', 'in', 'my', 'final', 'year', 'and', 'my', 'final', 'year', 'project', 'is', 'about', 'building', 'a', 'recomendation', 'system', 'engine', '.', 'After', 'completing', 'my', 'bachelor', 'degree', 'in', 'computer', 'science', ',', 'my', 'planing', 'is', 'to', 'pursue', 'MBA', '.', 'Is', 'it', 'a', 'good', 'decision', '?']\n",
      "\n",
      "\n",
      "First line of sentence List: \n",
      "['My', 'name', 'is', 'Alex', '.']\n"
     ]
    }
   ],
   "source": [
    "from nltk.tokenize import word_tokenize\n",
    "\n",
    "print(\"\\n\\nsampletext: \")\n",
    "Sample_Text_word = nltk.word_tokenize(sampleText)\n",
    "print(Sample_Text_word)\n",
    "\n",
    "print(\"\\n\\nFirst line of sentence List: \")\n",
    "Sentence_First_Line_words = nltk.word_tokenize(sentence[0])\n",
    "print(Sentence_First_Line_words)\n",
    "\n",
    "\n",
    "\n"
   ]
  },
  {
   "cell_type": "code",
   "execution_count": 24,
   "id": "de79bc34",
   "metadata": {},
   "outputs": [
    {
     "name": "stdout",
     "output_type": "stream",
     "text": [
      "Number of words in Sampletext are   54\n",
      "Number of words in First line of sentence list are   5\n"
     ]
    }
   ],
   "source": [
    "#We can also see the length\n",
    "\n",
    "print(\"Number of words in Sampletext are  \", len(Sample_Text_word))\n",
    "print(\"Number of words in First line of sentence list are  \", len(Sentence_First_Line_words))"
   ]
  },
  {
   "cell_type": "code",
   "execution_count": 19,
   "id": "c20e0fbe",
   "metadata": {},
   "outputs": [
    {
     "name": "stdout",
     "output_type": "stream",
     "text": [
      "1 .  My\n",
      "2 .  name\n",
      "3 .  is\n",
      "4 .  Alex\n",
      "5 .  .\n",
      "6 .  I\n",
      "7 .  study\n",
      "8 .  at\n",
      "9 .  Asia\n",
      "10 .  Pacific\n",
      "11 .  University\n",
      "12 .  .\n",
      "13 .  Currently\n",
      "14 .  I\n",
      "15 .  am\n",
      "16 .  in\n",
      "17 .  my\n",
      "18 .  final\n",
      "19 .  year\n",
      "20 .  and\n",
      "21 .  my\n",
      "22 .  final\n",
      "23 .  year\n",
      "24 .  project\n",
      "25 .  is\n",
      "26 .  about\n",
      "27 .  building\n",
      "28 .  a\n",
      "29 .  recomendation\n",
      "30 .  system\n",
      "31 .  engine\n",
      "32 .  .\n",
      "33 .  After\n",
      "34 .  completing\n",
      "35 .  my\n",
      "36 .  bachelor\n",
      "37 .  degree\n",
      "38 .  in\n",
      "39 .  computer\n",
      "40 .  science\n",
      "41 .  ,\n",
      "42 .  my\n",
      "43 .  planing\n",
      "44 .  is\n",
      "45 .  to\n",
      "46 .  pursue\n",
      "47 .  MBA\n",
      "48 .  .\n",
      "49 .  Is\n",
      "50 .  it\n",
      "51 .  a\n",
      "52 .  good\n",
      "53 .  decision\n",
      "54 .  ?\n"
     ]
    }
   ],
   "source": [
    "#We can also print word separately\n",
    "#Lets print all words in sampletext\n",
    "\n",
    "count_Sample_text_Word = 0\n",
    "for word in Sample_Text_word:\n",
    "    count_Sample_text_Word += 1\n",
    "    print(count_Sample_text_Word, \". \", word)"
   ]
  },
  {
   "cell_type": "code",
   "execution_count": 25,
   "id": "4af2c810",
   "metadata": {},
   "outputs": [
    {
     "name": "stdout",
     "output_type": "stream",
     "text": [
      "1 .  My\n",
      "2 .  name\n",
      "3 .  is\n",
      "4 .  Alex\n",
      "5 .  .\n"
     ]
    }
   ],
   "source": [
    "#Lets print all words in sampletext\n",
    "\n",
    "count = 0\n",
    "for word in Sentence_First_Line_words:\n",
    "    count += 1\n",
    "    print(count, \". \", word)"
   ]
  },
  {
   "cell_type": "code",
   "execution_count": 28,
   "id": "4df3294e",
   "metadata": {},
   "outputs": [
    {
     "name": "stdout",
     "output_type": "stream",
     "text": [
      "['My', 'name', 'is', 'Alex', '.', 'I', 'study', 'at', 'Asia', 'Pacific', 'University', '.', 'Currently', 'I', 'am', 'in', 'my', 'final', 'year', 'and', 'my', 'final', 'year', 'project', 'is', 'about', 'building', 'a', 'recomendation', 'system', 'engine', '.', 'After', 'completing', 'my', 'bachelor', 'degree', 'in', 'computer', 'science', ',', 'my', 'planing', 'is', 'to', 'pursue', 'MBA', '.', 'Is', 'it', 'a', 'good', 'decision', '?']\n"
     ]
    }
   ],
   "source": [
    "#We can also store words in list follwoing way\n",
    "\n",
    "token = word_tokenize(sampleText)\n",
    "Tokenstext = nltk.Text(token)\n",
    "print(Tokenstext[0:len(Tokenstext)])"
   ]
  },
  {
   "cell_type": "markdown",
   "id": "9738902a",
   "metadata": {},
   "source": [
    "#### TextBlob packages for segmentation"
   ]
  },
  {
   "cell_type": "code",
   "execution_count": 29,
   "id": "6d650603",
   "metadata": {},
   "outputs": [],
   "source": [
    "from textblob import TextBlob"
   ]
  },
  {
   "cell_type": "code",
   "execution_count": 32,
   "id": "9793932f",
   "metadata": {},
   "outputs": [
    {
     "name": "stdout",
     "output_type": "stream",
     "text": [
      "\n",
      " Sentences: \n",
      "[Sentence(\"My name is Alex.\"), Sentence(\"I study at Asia Pacific University.\"), Sentence(\"Currently I am in my final year and my final year project is about building a recomendation system engine.\"), Sentence(\"After completing my bachelor degree in computer science, my planing is to pursue MBA.\"), Sentence(\"Is it a good decision?\")]\n",
      "\n",
      " Number of Sentences: \n",
      "1 .  My name is Alex.\n",
      "2 .  I study at Asia Pacific University.\n",
      "3 .  Currently I am in my final year and my final year project is about building a recomendation system engine.\n",
      "4 .  After completing my bachelor degree in computer science, my planing is to pursue MBA.\n",
      "5 .  Is it a good decision?\n"
     ]
    }
   ],
   "source": [
    "sampleText = '''My name is Alex. I study at Asia Pacific University.\n",
    "                Currently I am in my final year and my final year project is about building a recomendation system engine. \n",
    "                After completing my bachelor degree in computer science, my planing is to pursue MBA. Is it a good decision?'''\n",
    "\n",
    "\n",
    "#Separating the sentence \n",
    "sentences = TextBlob(sampleText).sentences\n",
    "print(\"\\n Sentences: \")\n",
    "print(sentences)\n",
    "\n",
    "#we can count it also\n",
    "\n",
    "count = 0\n",
    "print(\"\\n Number of Sentences: \")\n",
    "for sentence in sentences:\n",
    "    count +=1\n",
    "    print(count, \". \", sentence)\n"
   ]
  },
  {
   "cell_type": "code",
   "execution_count": 34,
   "id": "be6e1143",
   "metadata": {},
   "outputs": [
    {
     "name": "stdout",
     "output_type": "stream",
     "text": [
      "\n",
      " Sentences: \n",
      "['My', 'name', 'is', 'Alex', 'I', 'study', 'at', 'Asia', 'Pacific', 'University', 'Currently', 'I', 'am', 'in', 'my', 'final', 'year', 'and', 'my', 'final', 'year', 'project', 'is', 'about', 'building', 'a', 'recomendation', 'system', 'engine', 'After', 'completing', 'my', 'bachelor', 'degree', 'in', 'computer', 'science', 'my', 'planing', 'is', 'to', 'pursue', 'MBA', 'Is', 'it', 'a', 'good', 'decision']\n",
      "\n",
      " Number of Sentences: \n",
      "1 .  My\n",
      "2 .  name\n",
      "3 .  is\n",
      "4 .  Alex\n",
      "5 .  I\n",
      "6 .  study\n",
      "7 .  at\n",
      "8 .  Asia\n",
      "9 .  Pacific\n",
      "10 .  University\n",
      "11 .  Currently\n",
      "12 .  I\n",
      "13 .  am\n",
      "14 .  in\n",
      "15 .  my\n",
      "16 .  final\n",
      "17 .  year\n",
      "18 .  and\n",
      "19 .  my\n",
      "20 .  final\n",
      "21 .  year\n",
      "22 .  project\n",
      "23 .  is\n",
      "24 .  about\n",
      "25 .  building\n",
      "26 .  a\n",
      "27 .  recomendation\n",
      "28 .  system\n",
      "29 .  engine\n",
      "30 .  After\n",
      "31 .  completing\n",
      "32 .  my\n",
      "33 .  bachelor\n",
      "34 .  degree\n",
      "35 .  in\n",
      "36 .  computer\n",
      "37 .  science\n",
      "38 .  my\n",
      "39 .  planing\n",
      "40 .  is\n",
      "41 .  to\n",
      "42 .  pursue\n",
      "43 .  MBA\n",
      "44 .  Is\n",
      "45 .  it\n",
      "46 .  a\n",
      "47 .  good\n",
      "48 .  decision\n"
     ]
    }
   ],
   "source": [
    "#Separating the words\n",
    "\n",
    "words = TextBlob(sampleText).words\n",
    "print(\"\\n Sentences: \")\n",
    "print(words)\n",
    "\n",
    "#we can count it also\n",
    "\n",
    "countw = 0\n",
    "print(\"\\n Number of Sentences: \")\n",
    "for word in words:\n",
    "    countw +=1\n",
    "    print(countw, \". \", word)"
   ]
  },
  {
   "cell_type": "markdown",
   "id": "4691ac71",
   "metadata": {},
   "source": [
    "Some difference can be observe here, that is textBlob not taking special character as words"
   ]
  },
  {
   "cell_type": "code",
   "execution_count": 37,
   "id": "3b669fd4",
   "metadata": {},
   "outputs": [
    {
     "name": "stdout",
     "output_type": "stream",
     "text": [
      "\n",
      "Tokenisation using split function\n",
      " \n",
      "['My', 'name', 'is', 'Alex.', 'I', 'study', 'at', 'Asia', 'Pacific', 'University.\\n', '', '', '', '', '', '', '', '', '', '', '', '', '', '', '', 'Currently', 'I', 'am', 'in', 'my', 'final', 'year', 'and', 'my', 'final', 'year', 'project', 'is', 'about', 'building', 'a', 'recomendation', 'system', 'engine.', '\\n', '', '', '', '', '', '', '', '', '', '', '', '', '', '', '', 'After', 'completing', 'my', 'bachelor', 'degree', 'in', 'computer', 'science,', 'my', 'planing', 'is', 'to', 'pursue', 'MBA.', 'Is', 'it', 'a', 'good', 'decision?']\n",
      "\n",
      "\n",
      "Tokenisation using nltk word tokenise function\n",
      " \n",
      "['My', 'name', 'is', 'Alex', '.', 'I', 'study', 'at', 'Asia', 'Pacific', 'University', '.', 'Currently', 'I', 'am', 'in', 'my', 'final', 'year', 'and', 'my', 'final', 'year', 'project', 'is', 'about', 'building', 'a', 'recomendation', 'system', 'engine', '.', 'After', 'completing', 'my', 'bachelor', 'degree', 'in', 'computer', 'science', ',', 'my', 'planing', 'is', 'to', 'pursue', 'MBA', '.', 'Is', 'it', 'a', 'good', 'decision', '?']\n",
      "\n",
      "\n",
      "Tokenisation using textblob tokenise function\n",
      " \n",
      "['My', 'name', 'is', 'Alex', 'I', 'study', 'at', 'Asia', 'Pacific', 'University', 'Currently', 'I', 'am', 'in', 'my', 'final', 'year', 'and', 'my', 'final', 'year', 'project', 'is', 'about', 'building', 'a', 'recomendation', 'system', 'engine', 'After', 'completing', 'my', 'bachelor', 'degree', 'in', 'computer', 'science', 'my', 'planing', 'is', 'to', 'pursue', 'MBA', 'Is', 'it', 'a', 'good', 'decision']\n"
     ]
    }
   ],
   "source": [
    "import nltk\n",
    "from textblob import TextBlob\n",
    "\n",
    "\n",
    "sampleText = '''My name is Alex. I study at Asia Pacific University.\n",
    "                Currently I am in my final year and my final year project is about building a recomendation system engine. \n",
    "                After completing my bachelor degree in computer science, my planing is to pursue MBA. Is it a good decision?'''\n",
    "\n",
    "\n",
    "wordtokens = sampleText.split(' ')\n",
    "print(\"\\nTokenisation using split function\\n \")\n",
    "print(wordtokens)\n",
    "\n",
    "print(\"\\n\\nTokenisation using nltk word tokenise function\\n \")\n",
    "print(nltk.tokenize.word_tokenize(sampleText))\n",
    "\n",
    "print(\"\\n\\nTokenisation using textblob tokenise function\\n \")\n",
    "print(TextBlob(sampleText).words)"
   ]
  },
  {
   "cell_type": "code",
   "execution_count": null,
   "id": "bcf2267c",
   "metadata": {},
   "outputs": [],
   "source": []
  }
 ],
 "metadata": {
  "kernelspec": {
   "display_name": "Python 3 (ipykernel)",
   "language": "python",
   "name": "python3"
  },
  "language_info": {
   "codemirror_mode": {
    "name": "ipython",
    "version": 3
   },
   "file_extension": ".py",
   "mimetype": "text/x-python",
   "name": "python",
   "nbconvert_exporter": "python",
   "pygments_lexer": "ipython3",
   "version": "3.9.7"
  }
 },
 "nbformat": 4,
 "nbformat_minor": 5
}
